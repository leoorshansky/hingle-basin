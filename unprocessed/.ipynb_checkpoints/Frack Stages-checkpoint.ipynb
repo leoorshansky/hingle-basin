{
 "cells": [
  {
   "cell_type": "code",
   "execution_count": 1,
   "metadata": {},
   "outputs": [],
   "source": [
    "import pandas as pd\n",
    "import numpy as np\n",
    "import os\n",
    "from os.path import join, dirname, isfile, basename\n",
    "from os import getcwd, listdir\n",
    "import math"
   ]
  },
  {
   "cell_type": "code",
   "execution_count": 2,
   "metadata": {},
   "outputs": [],
   "source": [
    "unprocessed_dir = join(join(dirname(getcwd()), 'unprocessed'), 'well production')"
   ]
  },
  {
   "cell_type": "code",
   "execution_count": 3,
   "metadata": {},
   "outputs": [],
   "source": [
    "def proppant_count(filename):\n",
    "    data = pd.read_csv(filename)\n",
    "    proppant_weight = data['proppant weight (lbs)']\n",
    "    count = 0\n",
    "    for i in proppant_weight:\n",
    "        if not math.isnan(i):\n",
    "            count = count + 1\n",
    "    return count"
   ]
  },
  {
   "cell_type": "code",
   "execution_count": 4,
   "metadata": {},
   "outputs": [
    {
     "data": {
      "text/plain": [
       "array([ 50,  12,  50,  50,  25,  50,   5,  34,  34,  34,   9, 100,  25,\n",
       "        34,  17,  25,  50,  10,  34, 100,  15,  34,  50,  50,  50,  25,\n",
       "        50,  99,  50,  50,  34,  50,  34,  50,  20,  34,  20,  34,  20,\n",
       "        34,  34, 100,  50,  20,  15,   4,  50,  50,   9, 100,  50,  50,\n",
       "        50,  17,  50,  50,  50,  50,  20,   1,  50,   2,  50, 100,  50,\n",
       "        25,  49,  34,  24,  34,  25,  50,  34,  20,  34,  50,  34,  34,\n",
       "        50,  17,  50,   9,   8,  50,  50, 100,  50,  34,  34,  34,  20,\n",
       "        50,  34,  99,  50,  34,  50,  50,  50,  34])"
      ]
     },
     "execution_count": 4,
     "metadata": {},
     "output_type": "execute_result"
    }
   ],
   "source": [
    "proppant_counts = []\n",
    "for filename in os.listdir(unprocessed_dir):\n",
    "    if filename.endswith(\".csv\") and not \"well production\" in filename:\n",
    "        proppant_counts.append(proppant_count(join(unprocessed_dir, filename)))\n",
    "proppant_counts = np.asarray(proppant_counts)\n",
    "proppant_counts"
   ]
  },
  {
   "cell_type": "code",
   "execution_count": 6,
   "metadata": {},
   "outputs": [
    {
     "name": "stdout",
     "output_type": "stream",
     "text": [
      "Total number of proppant counts:  4027\n",
      "Mean of proppant counts:  40.27\n"
     ]
    }
   ],
   "source": [
    "print('Total number of proppant counts: ', sum(proppant_counts))\n",
    "print('Mean of proppant counts: ', proppant_counts.mean())"
   ]
  },
  {
   "cell_type": "code",
   "execution_count": null,
   "metadata": {},
   "outputs": [],
   "source": []
  }
 ],
 "metadata": {
  "kernelspec": {
   "display_name": "Python 3",
   "language": "python",
   "name": "python3"
  },
  "language_info": {
   "codemirror_mode": {
    "name": "ipython",
    "version": 3
   },
   "file_extension": ".py",
   "mimetype": "text/x-python",
   "name": "python",
   "nbconvert_exporter": "python",
   "pygments_lexer": "ipython3",
   "version": "3.7.3"
  }
 },
 "nbformat": 4,
 "nbformat_minor": 2
}
