{
 "cells": [
  {
   "cell_type": "code",
   "execution_count": 1,
   "metadata": {},
   "outputs": [],
   "source": [
    "import pandas as pd\n",
    "import numpy as np\n",
    "from os.path import join, dirname\n",
    "from os import getcwd"
   ]
  },
  {
   "cell_type": "code",
   "execution_count": 2,
   "metadata": {},
   "outputs": [],
   "source": [
    "path = dirname(getcwd())\n",
    "path = join(path, \"data\")"
   ]
  },
  {
   "cell_type": "code",
   "execution_count": 3,
   "metadata": {},
   "outputs": [],
   "source": [
    "data = pd.read_csv(join(path, \"completion_short.csv\")).drop('Unnamed: 0', axis=1)"
   ]
  },
  {
   "cell_type": "code",
   "execution_count": 4,
   "metadata": {},
   "outputs": [],
   "source": [
    "X = data[[\"easting\", \"northing\"]]\n",
    "y = data.drop([\"easting\", \"northing\"], axis=1)"
   ]
  },
  {
   "cell_type": "code",
   "execution_count": 5,
   "metadata": {},
   "outputs": [],
   "source": [
    "from sklearn.model_selection import train_test_split\n",
    "from sklearn.ensemble import RandomForestRegressor, BaggingRegressor, GradientBoostingRegressor\n",
    "from sklearn.neural_network import MLPRegressor"
   ]
  },
  {
   "cell_type": "code",
   "execution_count": 6,
   "metadata": {},
   "outputs": [],
   "source": [
    "X_train, X_test, y_train, y_test = train_test_split(X, y, test_size=0.3)\n",
    "train_data = [y_train[x] for x in y_train.columns]\n",
    "test_data = [y_test[x] for x in y_test.columns]"
   ]
  },
  {
   "cell_type": "code",
   "execution_count": 7,
   "metadata": {},
   "outputs": [],
   "source": [
    "def create_forest():\n",
    "    return RandomForestRegressor()\n",
    "def create_bagging():\n",
    "    return BaggingRegressor()\n",
    "\n",
    "def create_boosting():\n",
    "    return GradientBoostingRegressor()\n",
    "\n",
    "def create_perceptron():\n",
    "    return MLPRegressor()"
   ]
  },
  {
   "cell_type": "code",
   "execution_count": 8,
   "metadata": {},
   "outputs": [],
   "source": [
    "models = [create_forest, create_bagging, create_boosting, create_perceptron]"
   ]
  },
  {
   "cell_type": "code",
   "execution_count": 9,
   "metadata": {},
   "outputs": [],
   "source": [
    "data_sets = []"
   ]
  },
  {
   "cell_type": "code",
   "execution_count": 10,
   "metadata": {},
   "outputs": [],
   "source": [
    "def print_scores(model, train_x, train_y, test_x, test_y, output=True):\n",
    "    train_score = model.score(train_x, train_y)\n",
    "    test_score = model.score(test_x, test_y)\n",
    "    if output:\n",
    "        print(\"Training: {}\".format(train_score))\n",
    "        print(\"Testing: {}\".format(test_score))\n",
    "    return train_score, test_score"
   ]
  },
  {
   "cell_type": "code",
   "execution_count": 11,
   "metadata": {},
   "outputs": [
    {
     "name": "stdout",
     "output_type": "stream",
     "text": [
      "---------\n",
      "porosity \n",
      "\n",
      "RandomForestRegressor()\n",
      "Training: 0.9489192219266385\n",
      "Testing: 0.6221910555865455\n",
      "\n",
      "\n",
      "BaggingRegressor()\n",
      "Training: 0.9367188784034076\n",
      "Testing: 0.6035065948322278\n",
      "\n",
      "\n",
      "GradientBoostingRegressor()\n",
      "Training: 0.7551861246777627\n",
      "Testing: 0.7004084223097987\n",
      "\n",
      "\n"
     ]
    },
    {
     "name": "stderr",
     "output_type": "stream",
     "text": [
      "/Users/oimtiaz/anaconda3/lib/python3.8/site-packages/sklearn/neural_network/_multilayer_perceptron.py:582: ConvergenceWarning: Stochastic Optimizer: Maximum iterations (200) reached and the optimization hasn't converged yet.\n",
      "  warnings.warn(\n"
     ]
    },
    {
     "name": "stdout",
     "output_type": "stream",
     "text": [
      "MLPRegressor()\n",
      "Training: -705848.7115029792\n",
      "Testing: -694352.6681932248\n",
      "\n",
      "\n",
      "---------\n",
      "---------\n",
      "permeability \n",
      "\n",
      "RandomForestRegressor()\n",
      "Training: 0.945286402599563\n",
      "Testing: 0.5559854060051777\n",
      "\n",
      "\n",
      "BaggingRegressor()\n",
      "Training: 0.9241332567520356\n",
      "Testing: 0.5275375158224687\n",
      "\n",
      "\n",
      "GradientBoostingRegressor()\n",
      "Training: 0.731453438863709\n",
      "Testing: 0.6436036488974213\n",
      "\n",
      "\n"
     ]
    },
    {
     "name": "stderr",
     "output_type": "stream",
     "text": [
      "/Users/oimtiaz/anaconda3/lib/python3.8/site-packages/sklearn/neural_network/_multilayer_perceptron.py:582: ConvergenceWarning: Stochastic Optimizer: Maximum iterations (200) reached and the optimization hasn't converged yet.\n",
      "  warnings.warn(\n"
     ]
    },
    {
     "name": "stdout",
     "output_type": "stream",
     "text": [
      "MLPRegressor()\n",
      "Training: -1533786.786431807\n",
      "Testing: -1521687.6237978388\n",
      "\n",
      "\n",
      "---------\n",
      "---------\n",
      "Poisson's ratio \n",
      "\n",
      "RandomForestRegressor()\n",
      "Training: 0.999838024725761\n",
      "Testing: 0.9980435390762231\n",
      "\n",
      "\n",
      "BaggingRegressor()\n",
      "Training: 0.9997430173257394\n",
      "Testing: 0.9978135277091353\n",
      "\n",
      "\n",
      "GradientBoostingRegressor()\n",
      "Training: 0.9581262703513427\n",
      "Testing: 0.9503956318167007\n",
      "\n",
      "\n"
     ]
    },
    {
     "name": "stderr",
     "output_type": "stream",
     "text": [
      "/Users/oimtiaz/anaconda3/lib/python3.8/site-packages/sklearn/neural_network/_multilayer_perceptron.py:582: ConvergenceWarning: Stochastic Optimizer: Maximum iterations (200) reached and the optimization hasn't converged yet.\n",
      "  warnings.warn(\n"
     ]
    },
    {
     "name": "stdout",
     "output_type": "stream",
     "text": [
      "MLPRegressor()\n",
      "Training: -80569.54380969769\n",
      "Testing: -71838.09269722679\n",
      "\n",
      "\n",
      "---------\n",
      "---------\n",
      "Young's Modulus \n",
      "\n",
      "RandomForestRegressor()\n",
      "Training: 0.9998413809776404\n",
      "Testing: 0.9994601929006112\n",
      "\n",
      "\n",
      "BaggingRegressor()\n",
      "Training: 0.9997103126042143\n",
      "Testing: 0.9992684850295878\n",
      "\n",
      "\n",
      "GradientBoostingRegressor()\n",
      "Training: 0.9637357975496214\n",
      "Testing: 0.9612351862867387\n",
      "\n",
      "\n"
     ]
    },
    {
     "name": "stderr",
     "output_type": "stream",
     "text": [
      "/Users/oimtiaz/anaconda3/lib/python3.8/site-packages/sklearn/neural_network/_multilayer_perceptron.py:582: ConvergenceWarning: Stochastic Optimizer: Maximum iterations (200) reached and the optimization hasn't converged yet.\n",
      "  warnings.warn(\n"
     ]
    },
    {
     "name": "stdout",
     "output_type": "stream",
     "text": [
      "MLPRegressor()\n",
      "Training: -8.938721332967697\n",
      "Testing: -9.012204803405035\n",
      "\n",
      "\n",
      "---------\n",
      "---------\n",
      "water saturation \n",
      "\n",
      "RandomForestRegressor()\n",
      "Training: 0.9998549954698919\n",
      "Testing: 0.9994763124461191\n",
      "\n",
      "\n",
      "BaggingRegressor()\n",
      "Training: 0.9997684056223696\n",
      "Testing: 0.9993155950830268\n",
      "\n",
      "\n",
      "GradientBoostingRegressor()\n",
      "Training: 0.9751798151577556\n",
      "Testing: 0.9699959527897701\n",
      "\n",
      "\n"
     ]
    },
    {
     "name": "stderr",
     "output_type": "stream",
     "text": [
      "/Users/oimtiaz/anaconda3/lib/python3.8/site-packages/sklearn/neural_network/_multilayer_perceptron.py:582: ConvergenceWarning: Stochastic Optimizer: Maximum iterations (200) reached and the optimization hasn't converged yet.\n",
      "  warnings.warn(\n"
     ]
    },
    {
     "name": "stdout",
     "output_type": "stream",
     "text": [
      "MLPRegressor()\n",
      "Training: -12341.967136169254\n",
      "Testing: -10549.610299036874\n",
      "\n",
      "\n",
      "---------\n",
      "---------\n",
      "oil saturation \n",
      "\n",
      "RandomForestRegressor()\n",
      "Training: 0.9998584553225245\n",
      "Testing: 0.999473712573045\n",
      "\n",
      "\n",
      "BaggingRegressor()\n",
      "Training: 0.9997641842038887\n",
      "Testing: 0.9990657491826738\n",
      "\n",
      "\n",
      "GradientBoostingRegressor()\n",
      "Training: 0.9751798151577556\n",
      "Testing: 0.9699959527897702\n",
      "\n",
      "\n"
     ]
    },
    {
     "name": "stderr",
     "output_type": "stream",
     "text": [
      "/Users/oimtiaz/anaconda3/lib/python3.8/site-packages/sklearn/neural_network/_multilayer_perceptron.py:582: ConvergenceWarning: Stochastic Optimizer: Maximum iterations (200) reached and the optimization hasn't converged yet.\n",
      "  warnings.warn(\n"
     ]
    },
    {
     "name": "stdout",
     "output_type": "stream",
     "text": [
      "MLPRegressor()\n",
      "Training: -17721.16036904177\n",
      "Testing: -18247.720627271963\n",
      "\n",
      "\n",
      "---------\n",
      "---------\n",
      "proppant weight (lbs) \n",
      "\n",
      "RandomForestRegressor()\n",
      "Training: 0.8291927412657754\n",
      "Testing: -0.254447876696813\n",
      "\n",
      "\n",
      "BaggingRegressor()\n",
      "Training: 0.7803300351226953\n",
      "Testing: -0.3237151828203648\n",
      "\n",
      "\n",
      "GradientBoostingRegressor()\n",
      "Training: 0.11372789949066253\n",
      "Testing: -0.005266183881839748\n",
      "\n",
      "\n",
      "MLPRegressor()\n",
      "Training: -0.4883122158848805\n",
      "Testing: -0.4769346965556669\n",
      "\n",
      "\n",
      "---------\n",
      "---------\n",
      "pump rate (cubic feet/min) \n",
      "\n",
      "RandomForestRegressor()\n",
      "Training: 0.8240576414056061\n",
      "Testing: -0.26170230385920834\n",
      "\n",
      "\n",
      "BaggingRegressor()\n",
      "Training: 0.7737960294832823\n",
      "Testing: -0.324042719088818\n",
      "\n",
      "\n",
      "GradientBoostingRegressor()\n",
      "Training: 0.11124123393215968\n",
      "Testing: -0.01487054738526683\n",
      "\n",
      "\n",
      "MLPRegressor()\n",
      "Training: -3.7432680296019853\n",
      "Testing: -4.030900373908632\n",
      "\n",
      "\n",
      "---------\n"
     ]
    },
    {
     "name": "stderr",
     "output_type": "stream",
     "text": [
      "/Users/oimtiaz/anaconda3/lib/python3.8/site-packages/sklearn/neural_network/_multilayer_perceptron.py:582: ConvergenceWarning: Stochastic Optimizer: Maximum iterations (200) reached and the optimization hasn't converged yet.\n",
      "  warnings.warn(\n"
     ]
    }
   ],
   "source": [
    "good_models = []\n",
    "for i in range(len(train_data)):\n",
    "    max_score = -99999999\n",
    "    print(\"---------\")\n",
    "    print(y.columns[i], \"\\n\")\n",
    "\n",
    "    for model in models:\n",
    "        current_model = model().fit(X_train, train_data[i])\n",
    "        print(current_model)\n",
    "        (train, test) = print_scores(current_model, X_train, train_data[i], X_test, test_data[i])\n",
    "        if test > max_score:\n",
    "            best_model = current_model\n",
    "            max_score = test\n",
    "        print(\"\\n\")\n",
    "    good_models.append(best_model)\n",
    "    print(\"---------\")"
   ]
  },
  {
   "cell_type": "markdown",
   "metadata": {},
   "source": [
    "# for i in range(len(train_data)):\n",
    "    current_model = good_models[i]\n",
    "    train, test = print_scores(current_model, X_train, train_data[i], X_test, test_data[i], output=False)\n",
    "    print(\"Feature: {}, model: {}\".format(train_data[i].name, current_model))\n",
    "    print(\"train score: {}, test score: {}\".format(train, test), end=\"\\n\\n\")"
   ]
  },
  {
   "cell_type": "markdown",
   "metadata": {},
   "source": []
  }
 ],
 "metadata": {
  "kernelspec": {
   "display_name": "Python 3",
   "language": "python",
   "name": "python3"
  },
  "language_info": {
   "codemirror_mode": {
    "name": "ipython",
    "version": 3
   },
   "file_extension": ".py",
   "mimetype": "text/x-python",
   "name": "python",
   "nbconvert_exporter": "python",
   "pygments_lexer": "ipython3",
   "version": "3.8.3"
  }
 },
 "nbformat": 4,
 "nbformat_minor": 4
}
