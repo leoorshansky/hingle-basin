{
 "cells": [
  {
   "cell_type": "code",
   "execution_count": 1,
   "metadata": {},
   "outputs": [],
   "source": [
    "import pandas as pd\n",
    "import numpy as np\n",
    "from os.path import join, dirname\n",
    "from os import getcwd"
   ]
  },
  {
   "cell_type": "code",
   "execution_count": 2,
   "metadata": {},
   "outputs": [],
   "source": [
    "path = dirname(getcwd())\n",
    "path = join(path, \"data\")"
   ]
  },
  {
   "cell_type": "code",
   "execution_count": 3,
   "metadata": {},
   "outputs": [],
   "source": [
    "data = pd.read_csv(join(path, \"completion_short.csv\")).drop(['Unnamed: 0', 'pump rate (cubic feet/min)','proppant weight (lbs)'], axis=1)"
   ]
  },
  {
   "cell_type": "code",
   "execution_count": 4,
   "metadata": {},
   "outputs": [],
   "source": [
    "X = data[[\"easting\", \"northing\"]]\n",
    "y = data.drop([\"easting\", \"northing\"], axis=1)"
   ]
  },
  {
   "cell_type": "code",
   "execution_count": 5,
   "metadata": {},
   "outputs": [],
   "source": [
    "from sklearn.model_selection import train_test_split\n",
    "from sklearn.ensemble import RandomForestRegressor, BaggingRegressor, GradientBoostingRegressor\n",
    "from sklearn.neural_network import MLPRegressor"
   ]
  },
  {
   "cell_type": "code",
   "execution_count": 6,
   "metadata": {},
   "outputs": [],
   "source": [
    "X_train, X_test, y_train, y_test = train_test_split(X, y, test_size=0.3)\n",
    "train_data = [y_train[x] for x in y_train.columns]\n",
    "test_data = [y_test[x] for x in y_test.columns]"
   ]
  },
  {
   "cell_type": "code",
   "execution_count": 7,
   "metadata": {},
   "outputs": [],
   "source": [
    "def create_forest():\n",
    "    return RandomForestRegressor()\n",
    "def create_bagging():\n",
    "    return BaggingRegressor()\n",
    "\n",
    "def create_boosting():\n",
    "    return GradientBoostingRegressor()\n",
    "\n",
    "def create_perceptron():\n",
    "    return MLPRegressor()"
   ]
  },
  {
   "cell_type": "code",
   "execution_count": 8,
   "metadata": {},
   "outputs": [],
   "source": [
    "models = [create_forest, create_bagging, create_boosting]"
   ]
  },
  {
   "cell_type": "code",
   "execution_count": 9,
   "metadata": {},
   "outputs": [],
   "source": [
    "data_sets = []"
   ]
  },
  {
   "cell_type": "code",
   "execution_count": 10,
   "metadata": {},
   "outputs": [],
   "source": [
    "def print_scores(model, train_x, train_y, test_x, test_y, output=True):\n",
    "    train_score = model.score(train_x, train_y)\n",
    "    test_score = model.score(test_x, test_y)\n",
    "    if output:\n",
    "        print(\"Training: {}\".format(train_score))\n",
    "        print(\"Testing: {}\".format(test_score))\n",
    "    return train_score, test_score"
   ]
  },
  {
   "cell_type": "code",
   "execution_count": 11,
   "metadata": {},
   "outputs": [
    {
     "name": "stdout",
     "output_type": "stream",
     "text": [
      "---------\n",
      "porosity \n",
      "\n",
      "RandomForestRegressor()\n",
      "Training: 0.9488948731611883\n",
      "Testing: 0.6303648899082275\n",
      "\n",
      "\n",
      "BaggingRegressor()\n",
      "Training: 0.9352850771871193\n",
      "Testing: 0.612226562121716\n",
      "\n",
      "\n",
      "GradientBoostingRegressor()\n",
      "Training: 0.7492256250043323\n",
      "Testing: 0.7153342215093992\n",
      "\n",
      "\n",
      "---------\n",
      "---------\n",
      "permeability \n",
      "\n",
      "RandomForestRegressor()\n",
      "Training: 0.9441769581889431\n",
      "Testing: 0.5801090969958762\n",
      "\n",
      "\n",
      "BaggingRegressor()\n",
      "Training: 0.927697132592809\n",
      "Testing: 0.5511181958305351\n",
      "\n",
      "\n",
      "GradientBoostingRegressor()\n",
      "Training: 0.7174068888429944\n",
      "Testing: 0.6803352040755686\n",
      "\n",
      "\n",
      "---------\n",
      "---------\n",
      "Poisson's ratio \n",
      "\n",
      "RandomForestRegressor()\n",
      "Training: 0.9997769097754128\n",
      "Testing: 0.999167657952816\n",
      "\n",
      "\n",
      "BaggingRegressor()\n",
      "Training: 0.9996810241950863\n",
      "Testing: 0.999039183531348\n",
      "\n",
      "\n",
      "GradientBoostingRegressor()\n",
      "Training: 0.9623968012322783\n",
      "Testing: 0.9604242069302834\n",
      "\n",
      "\n",
      "---------\n",
      "---------\n",
      "Young's Modulus \n",
      "\n",
      "RandomForestRegressor()\n",
      "Training: 0.9998252734699052\n",
      "Testing: 0.9992613688557564\n",
      "\n",
      "\n",
      "BaggingRegressor()\n",
      "Training: 0.9998073836750251\n",
      "Testing: 0.9992321848609477\n",
      "\n",
      "\n",
      "GradientBoostingRegressor()\n",
      "Training: 0.9625707472323529\n",
      "Testing: 0.9663039853113129\n",
      "\n",
      "\n",
      "---------\n",
      "---------\n",
      "water saturation \n",
      "\n",
      "RandomForestRegressor()\n",
      "Training: 0.9998959518749305\n",
      "Testing: 0.999432678158618\n",
      "\n",
      "\n",
      "BaggingRegressor()\n",
      "Training: 0.9998173320179752\n",
      "Testing: 0.999259930026812\n",
      "\n",
      "\n",
      "GradientBoostingRegressor()\n",
      "Training: 0.9721109448713777\n",
      "Testing: 0.9687163996843656\n",
      "\n",
      "\n",
      "---------\n",
      "---------\n",
      "oil saturation \n",
      "\n",
      "RandomForestRegressor()\n",
      "Training: 0.9999036577729523\n",
      "Testing: 0.9994117735962884\n",
      "\n",
      "\n",
      "BaggingRegressor()\n",
      "Training: 0.9998240555887826\n",
      "Testing: 0.9992608791667331\n",
      "\n",
      "\n",
      "GradientBoostingRegressor()\n",
      "Training: 0.9721109448713776\n",
      "Testing: 0.9687163996843655\n",
      "\n",
      "\n",
      "---------\n"
     ]
    }
   ],
   "source": [
    "good_models = []\n",
    "for i in range(len(train_data)):\n",
    "    max_score = -99999999\n",
    "    print(\"---------\")\n",
    "    print(y.columns[i], \"\\n\")\n",
    "\n",
    "    for model in models:\n",
    "        current_model = model().fit(X_train, train_data[i])\n",
    "        print(current_model)\n",
    "        (train, test) = print_scores(current_model, X_train, train_data[i], X_test, test_data[i])\n",
    "        if test > max_score:\n",
    "            best_model = current_model\n",
    "            max_score = test\n",
    "        print(\"\\n\")\n",
    "    good_models.append(best_model)\n",
    "    print(\"---------\")"
   ]
  },
  {
   "cell_type": "code",
   "execution_count": 12,
   "metadata": {},
   "outputs": [
    {
     "name": "stdout",
     "output_type": "stream",
     "text": [
      "porosity, model: GradientBoostingRegressor()\n",
      "train score: 0.7492256250043323, test score: 0.7153342215093992\n",
      "\n",
      "permeability, model: GradientBoostingRegressor()\n",
      "train score: 0.7174068888429944, test score: 0.6803352040755686\n",
      "\n",
      "Poisson's ratio, model: RandomForestRegressor()\n",
      "train score: 0.9997769097754128, test score: 0.999167657952816\n",
      "\n",
      "Young's Modulus, model: RandomForestRegressor()\n",
      "train score: 0.9998252734699052, test score: 0.9992613688557564\n",
      "\n",
      "water saturation, model: RandomForestRegressor()\n",
      "train score: 0.9998959518749305, test score: 0.999432678158618\n",
      "\n",
      "oil saturation, model: RandomForestRegressor()\n",
      "train score: 0.9999036577729523, test score: 0.9994117735962884\n",
      "\n"
     ]
    }
   ],
   "source": [
    "for i in range(len(train_data)):\n",
    "    current_model = good_models[i]\n",
    "    train, test = print_scores(current_model, X_train, train_data[i], X_test, test_data[i], output=False)\n",
    "    print(\"{}, model: {}\".format(train_data[i].name, current_model))\n",
    "    print(\"train score: {}, test score: {}\".format(train, test), end=\"\\n\\n\")"
   ]
  },
  {
   "cell_type": "code",
   "execution_count": 13,
   "metadata": {},
   "outputs": [],
   "source": [
    "from joblib import dump"
   ]
  },
  {
   "cell_type": "code",
   "execution_count": 14,
   "metadata": {},
   "outputs": [],
   "source": [
    "for i in range(len(train_data)):\n",
    "    model_path = join(getcwd(), 'models')\n",
    "    dump(good_models[i], join(model_path, train_data[i].name + '.model'))"
   ]
  },
  {
   "cell_type": "code",
   "execution_count": null,
   "metadata": {},
   "outputs": [],
   "source": []
  }
 ],
 "metadata": {
  "kernelspec": {
   "display_name": "Python 3",
   "language": "python",
   "name": "python3"
  },
  "language_info": {
   "codemirror_mode": {
    "name": "ipython",
    "version": 3
   },
   "file_extension": ".py",
   "mimetype": "text/x-python",
   "name": "python",
   "nbconvert_exporter": "python",
   "pygments_lexer": "ipython3",
   "version": "3.8.3"
  }
 },
 "nbformat": 4,
 "nbformat_minor": 4
}
