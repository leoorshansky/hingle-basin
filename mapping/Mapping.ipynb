{
 "cells": [
  {
   "cell_type": "code",
   "execution_count": 1,
   "metadata": {},
   "outputs": [],
   "source": [
    "import pandas as pd\n",
    "import numpy as np\n",
    "import matplotlib.pyplot as plt\n",
    "from os.path import join, dirname, isfile, basename\n",
    "from os import getcwd, listdir"
   ]
  },
  {
   "cell_type": "code",
   "execution_count": 2,
   "metadata": {},
   "outputs": [],
   "source": [
    "model_path = join(join(dirname(getcwd()), 'modelling'), 'models')\n",
    "data_path = join(dirname(getcwd()), 'data')\n",
    "data_path = join(data_path, 'completion.csv')"
   ]
  },
  {
   "cell_type": "code",
   "execution_count": 3,
   "metadata": {},
   "outputs": [],
   "source": [
    "data = pd.read_csv(data_path)"
   ]
  },
  {
   "cell_type": "code",
   "execution_count": 4,
   "metadata": {},
   "outputs": [],
   "source": [
    "min_easting = min(data.easting)\n",
    "max_easting = max(data.easting)\n",
    "min_northing = min(data.northing)\n",
    "max_northing = max(data.northing)"
   ]
  },
  {
   "cell_type": "code",
   "execution_count": 5,
   "metadata": {},
   "outputs": [],
   "source": [
    "# Increasing step size decreases fidelity of graphs\n",
    "# good default is 100\n",
    "step_size = 50\n",
    "scale = (max_easting - min_easting) / (max_northing - min_northing)"
   ]
  },
  {
   "cell_type": "code",
   "execution_count": 6,
   "metadata": {},
   "outputs": [],
   "source": [
    "x = np.arange(start=min_easting, stop=max_easting, step=step_size)\n",
    "y = np.arange(start=min_northing, stop=max_northing, step=step_size / scale)\n",
    "l = []\n",
    "for i in range(len(x)):\n",
    "    for j in range(len(y)):\n",
    "        l.append([x[i], y[j]])\n",
    "locations = np.array(l)"
   ]
  },
  {
   "cell_type": "code",
   "execution_count": 10,
   "metadata": {},
   "outputs": [
    {
     "name": "stdout",
     "output_type": "stream",
     "text": [
      "1886\n"
     ]
    }
   ],
   "source": [
    "print(len(x))"
   ]
  },
  {
   "cell_type": "code",
   "execution_count": 7,
   "metadata": {},
   "outputs": [],
   "source": [
    "from joblib import load"
   ]
  },
  {
   "cell_type": "code",
   "execution_count": 8,
   "metadata": {},
   "outputs": [],
   "source": [
    "model_paths = [join(model_path, f) for f in listdir(model_path) if isfile(join(model_path, f))]\n",
    "if join(model_path, '.DS_Store') in model_paths:\n",
    "    model_paths.remove(join(model_path, '.DS_Store')) \n",
    "    \n",
    "models = [load(x) for x in model_paths]"
   ]
  },
  {
   "cell_type": "code",
   "execution_count": 13,
   "metadata": {},
   "outputs": [
    {
     "name": "stdout",
     "output_type": "stream",
     "text": [
      "9.43\n"
     ]
    }
   ],
   "source": [
    "dpi_scale = len(x) / 200"
   ]
  },
  {
   "cell_type": "code",
   "execution_count": null,
   "metadata": {},
   "outputs": [],
   "source": [
    "for model in models:\n",
    "    name = basename(model_paths[models.index(model)].replace('.model', ''))\n",
    "    image_name = join('maps', name + \".jpg\")\n",
    "    plt.figure()\n",
    "    colors = model.predict(locations)\n",
    "    plt.scatter(locations[:,0], locations[:,1], c= colors)\n",
    "    plt.title(name)\n",
    "    plt.savefig(image_name, dpi=100 * dpi_scale)"
   ]
  },
  {
   "cell_type": "code",
   "execution_count": null,
   "metadata": {},
   "outputs": [],
   "source": []
  }
 ],
 "metadata": {
  "kernelspec": {
   "display_name": "Python 3",
   "language": "python",
   "name": "python3"
  },
  "language_info": {
   "codemirror_mode": {
    "name": "ipython",
    "version": 3
   },
   "file_extension": ".py",
   "mimetype": "text/x-python",
   "name": "python",
   "nbconvert_exporter": "python",
   "pygments_lexer": "ipython3",
   "version": "3.8.3"
  }
 },
 "nbformat": 4,
 "nbformat_minor": 4
}
